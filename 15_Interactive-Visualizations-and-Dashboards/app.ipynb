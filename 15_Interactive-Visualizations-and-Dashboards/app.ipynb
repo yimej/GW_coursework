{
 "cells": [
  {
   "cell_type": "code",
   "execution_count": 99,
   "metadata": {},
   "outputs": [],
   "source": [
    "from flask import Flask, jsonify, render_template, json\n",
    "import pandas as pd\n",
    "app = Flask(__name__)"
   ]
  },
  {
   "cell_type": "code",
   "execution_count": 128,
   "metadata": {},
   "outputs": [],
   "source": [
    "columns_df = pd.read_csv('metadata_columns.csv')\n",
    "metadata_df = pd.read_csv('Belly_Button_Biodiversity_Metadata.csv')\n",
    "otu_df = pd.read_csv('belly_button_biodiversity_otu_id.csv')\n",
    "samples_df = pd.read_csv('belly_button_biodiversity_samples.csv')"
   ]
  },
  {
   "cell_type": "code",
   "execution_count": 132,
   "metadata": {},
   "outputs": [],
   "source": [
    "names_df = samples_df.set_index('otu_id')\n",
    "\n",
    "otu_df.set_index('otu_id', inplace=True)\n",
    "\n",
    "sample_metadata_df = metadata_df[['AGE', 'BBTYPE', 'ETHNICITY', 'GENDER', 'LOCATION', 'SAMPLEID']]\n",
    "sample_metadata_df.set_index('SAMPLEID', drop=False, inplace=True)\n",
    "sample_metadata_dict = sample_metadata_df.to_dict('records')\n",
    "\n",
    "wfreq_df = metadata_df[['SAMPLEID', 'WFREQ']]\n",
    "wfreq_df.set_index('SAMPLEID', inplace=True)"
   ]
  },
  {
   "cell_type": "code",
   "execution_count": 149,
   "metadata": {},
   "outputs": [],
   "source": [
    "sample = 'BB_940'\n",
    "sample = int(sample[3:])\n",
    "smdf = pd.DataFrame(sample_metadata_df.loc[sample])\n",
    "age = int(smdf.iloc[0][sample])\n",
    "bbtype = smdf.iloc[1][sample]\n",
    "ethnicity = smdf.iloc[2][sample]\n",
    "gender = smdf.iloc[3][sample]\n",
    "location = smdf.iloc[4][sample]\n",
    "sampleid = int(smdf.iloc[5][sample])\n",
    "metadata_dict = {'AGE': age, 'BBTYPE': bbtype, 'ETHNICITY': ethnicity, 'GENDER': gender, 'LOCATION': location, 'SAMPLEID': sampleid}"
   ]
  },
  {
   "cell_type": "code",
   "execution_count": 150,
   "metadata": {},
   "outputs": [],
   "source": []
  },
  {
   "cell_type": "code",
   "execution_count": 151,
   "metadata": {},
   "outputs": [
    {
     "data": {
      "text/plain": [
       "{'AGE': 24,\n",
       " 'BBTYPE': 'I',\n",
       " 'ETHNICITY': 'Caucasian',\n",
       " 'GENDER': 'F',\n",
       " 'LOCATION': 'Beaufort/NC',\n",
       " 'SAMPLEID': 940}"
      ]
     },
     "execution_count": 151,
     "metadata": {},
     "output_type": "execute_result"
    }
   ],
   "source": [
    "metadata_dict"
   ]
  },
  {
   "cell_type": "code",
   "execution_count": 5,
   "metadata": {},
   "outputs": [
    {
     "name": "stderr",
     "output_type": "stream",
     "text": [
      " * Restarting with stat\n"
     ]
    },
    {
     "ename": "SystemExit",
     "evalue": "1",
     "output_type": "error",
     "traceback": [
      "An exception has occurred, use %tb to see the full traceback.\n",
      "\u001b[1;31mSystemExit\u001b[0m\u001b[1;31m:\u001b[0m 1\n"
     ]
    },
    {
     "name": "stderr",
     "output_type": "stream",
     "text": [
      "C:\\ProgramData\\Anaconda3\\lib\\site-packages\\IPython\\core\\interactiveshell.py:2918: UserWarning: To exit: use 'exit', 'quit', or Ctrl-D.\n",
      "  warn(\"To exit: use 'exit', 'quit', or Ctrl-D.\", stacklevel=1)\n"
     ]
    }
   ],
   "source": [
    "@app.route(\"/\")\n",
    "def index():\n",
    "    return render_template('index.html')\n",
    "\n",
    "@app.route('/names')\n",
    "def list_of_names():\n",
    "    names = list(samples_df.columns.values)\n",
    "    return names    \n",
    "\n",
    "@app.route('/otu')\n",
    "def otu_descriptions():\n",
    "    otu_list = otu_df['lowest_taxonomic_unit_found'].tolist()\n",
    "    return otu_list\n",
    "\n",
    "@app.route('/metadata/<sample>')\n",
    "def metadata_for_sample():\n",
    "    sample = int(sample[3:])\n",
    "    sample_metadata = sample_metadata_df.loc[sample].to_dict()\n",
    "    return(sample_metadata)\n",
    "\n",
    "@app.route('/wfreq/<sample>')\n",
    "def wfreq_for_sample():\n",
    "    sample_wfreq = float(wfreq_df.loc[sample])\n",
    "    return(sample_wfreq)\n",
    "\n",
    "@app.route('/samples/<sample>')\n",
    "def info_for_sample():\n",
    "    info = samples_df.sort_values(sample, ascending=False)\n",
    "    info_otu = current['otu_id'].tolist()\n",
    "    info_values = current[sample].tolist()\n",
    "    info_dict = {'otu_ids': info_otu, 'sample_values': info_values}\n",
    "    return(info_dict)\n",
    "\n",
    "if __name__ == \"__main__\":\n",
    "    app.run(debug=True)"
   ]
  },
  {
   "cell_type": "code",
   "execution_count": null,
   "metadata": {},
   "outputs": [],
   "source": []
  }
 ],
 "metadata": {
  "kernelspec": {
   "display_name": "Python 3",
   "language": "python",
   "name": "python3"
  },
  "language_info": {
   "codemirror_mode": {
    "name": "ipython",
    "version": 3
   },
   "file_extension": ".py",
   "mimetype": "text/x-python",
   "name": "python",
   "nbconvert_exporter": "python",
   "pygments_lexer": "ipython3",
   "version": "3.6.4"
  }
 },
 "nbformat": 4,
 "nbformat_minor": 2
}
